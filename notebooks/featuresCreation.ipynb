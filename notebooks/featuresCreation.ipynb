{
 "cells": [
  {
   "cell_type": "code",
   "execution_count": 1,
   "metadata": {},
   "outputs": [],
   "source": [
    "import os\n",
    "\n",
    "os.chdir('../src/')\n",
    "\n",
    "from modules.dataProcessing import getJoinedData\n",
    "\n",
    "import pandas as pd\n",
    "import numpy as np\n",
    "import seaborn as sns\n",
    "import matplotlib.pyplot as plt"
   ]
  },
  {
   "cell_type": "code",
   "execution_count": 2,
   "metadata": {},
   "outputs": [],
   "source": [
    "jumboData = getJoinedData( \n",
    "                cachedFile='../data/intermediate/jumboData_cleansed.snappy.parquet'\n",
    "            )   ## Data will be fetched if cached file is not found"
   ]
  },
  {
   "cell_type": "code",
   "execution_count": 3,
   "metadata": {},
   "outputs": [],
   "source": [
    "jumboData['yearCaptured']   = jumboData['capturedDate'].apply(lambda dt: dt.year)\n",
    "jumboData['YYYYMMCaptured'] = jumboData['capturedDate'].apply(lambda dt: '{}{:02d}'.format(dt.year, dt.month))"
   ]
  },
  {
   "cell_type": "code",
   "execution_count": 4,
   "metadata": {},
   "outputs": [],
   "source": [
    "jumboData.to_parquet( '../data/intermediate/jumboData_cleansed_engineered.snappy.parquet', engine='pyarrow', compression='snappy' )"
   ]
  }
 ],
 "metadata": {
  "kernelspec": {
   "display_name": "Python 3",
   "language": "python",
   "name": "python3"
  },
  "language_info": {
   "codemirror_mode": {
    "name": "ipython",
    "version": 3
   },
   "file_extension": ".py",
   "mimetype": "text/x-python",
   "name": "python",
   "nbconvert_exporter": "python",
   "pygments_lexer": "ipython3",
   "version": "3.7.4"
  }
 },
 "nbformat": 4,
 "nbformat_minor": 2
}
